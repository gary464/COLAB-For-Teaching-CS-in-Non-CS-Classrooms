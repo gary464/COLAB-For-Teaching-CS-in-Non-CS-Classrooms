{
  "nbformat": 4,
  "nbformat_minor": 0,
  "metadata": {
    "colab": {
      "provenance": [],
      "name": "3_Function_Animation_Lesson.ipynb",
      "authorship_tag": "ABX9TyNMdkVkCpIVwlpPhH3tsBJY",
      "include_colab_link": true
    },
    "kernelspec": {
      "name": "python3",
      "display_name": "Python 3"
    },
    "language_info": {
      "name": "python"
    }
  },
  "cells": [
    {
      "cell_type": "markdown",
      "metadata": {
        "id": "view-in-github",
        "colab_type": "text"
      },
      "source": [
        "<a href=\"https://colab.research.google.com/github/gary464/COLAB-For-Teaching-CS-in-Non-CS-Classrooms/blob/main/3_Function_Animation_Lesson.ipynb\" target=\"_parent\"><img src=\"https://colab.research.google.com/assets/colab-badge.svg\" alt=\"Open In Colab\"/></a>"
      ]
    },
    {
      "cell_type": "markdown",
      "source": [],
      "metadata": {
        "id": "QBGk9hmbrjGs"
      }
    },
    {
      "cell_type": "markdown",
      "source": [
        "**Let's create a simple plot of the function y = x^2**"
      ],
      "metadata": {
        "id": "43DegdM9rRDo"
      }
    },
    {
      "cell_type": "code",
      "source": [
        "# Import some libraries\n",
        "\n",
        "import numpy as np\n",
        "import matplotlib.pyplot as plt\n",
        "import matplotlib.animation as animation\n",
        "\n",
        "# Create an array of 101 x's from 0 to 10 - this creates values 0f 0.0, 0.1, 0.2 ... 10.0\n",
        "x = np.linspace(0, 10, 101)\n",
        "print(x)  # This is not needed, just shows you the array x\n",
        "\n",
        "# Make y a function of x\n",
        "y = x ** 2 #remember, we use ** to raise a variable to a power\n",
        "\n",
        "# Create a figure and axis - we are doin this is a bit more of a complex way\n",
        "# in order to pass this plot into an animation procedure\n",
        "fig, ax = plt.subplots()\n",
        "\n",
        "# Plot the data\n",
        "# assign the line object to 'line'\n",
        "line, = ax.plot(x, y, marker='o')\n",
        "# Set the title of the plot using ax.set_title()\n",
        "ax.set_title('y = x ^ 2')\n",
        "# Set the x-axis label using ax.set_xlabel()\n",
        "ax.set_xlabel('x')\n",
        "# Set the y-axis label using ax.set_ylabel()\n",
        "ax.set_ylabel('y')\n",
        "\n",
        "\n",
        "# Use plt.show() to display the plot\n",
        "plt.show()\n"
      ],
      "metadata": {
        "id": "9DyuwYTIES1F",
        "colab": {
          "base_uri": "https://localhost:8080/",
          "height": 611
        },
        "outputId": "2b6e0dcb-55bf-470f-fcb3-b4e4fcd4a90b"
      },
      "execution_count": null,
      "outputs": [
        {
          "output_type": "stream",
          "name": "stdout",
          "text": [
            "[ 0.   0.1  0.2  0.3  0.4  0.5  0.6  0.7  0.8  0.9  1.   1.1  1.2  1.3\n",
            "  1.4  1.5  1.6  1.7  1.8  1.9  2.   2.1  2.2  2.3  2.4  2.5  2.6  2.7\n",
            "  2.8  2.9  3.   3.1  3.2  3.3  3.4  3.5  3.6  3.7  3.8  3.9  4.   4.1\n",
            "  4.2  4.3  4.4  4.5  4.6  4.7  4.8  4.9  5.   5.1  5.2  5.3  5.4  5.5\n",
            "  5.6  5.7  5.8  5.9  6.   6.1  6.2  6.3  6.4  6.5  6.6  6.7  6.8  6.9\n",
            "  7.   7.1  7.2  7.3  7.4  7.5  7.6  7.7  7.8  7.9  8.   8.1  8.2  8.3\n",
            "  8.4  8.5  8.6  8.7  8.8  8.9  9.   9.1  9.2  9.3  9.4  9.5  9.6  9.7\n",
            "  9.8  9.9 10. ]\n"
          ]
        },
        {
          "output_type": "display_data",
          "data": {
            "text/plain": [
              "<Figure size 640x480 with 1 Axes>"
            ],
            "image/png": "[encoded data removed]"
          },
          "metadata": {}
        }
      ]
    },
    {
      "cell_type": "markdown",
      "source": [
        "Now we'll use matplotlib funcanimation to animate the line in the graph\n",
        "\n",
        "Here is a link to the documentation from matplotlib:\n",
        "\n",
        "https://matplotlib.org/stable/api/_as_gen/matplotlib.animation.FuncAnimation.html\n",
        "\n",
        "Let's take a look at the key information:\n",
        "\n",
        "We will create an animation using the following information\n",
        "\n",
        "ani = animation.FuncAnimation(fig, func, frames, interval,      fargs)\n",
        "\n",
        "**fig** - was already defined above.\n",
        "\n",
        "**Func** - We define a function to update the look of the plot.  The actual function is like taking a recording on your phone.  It updates the function takes a \"picture\" then updates it again and takes another picture.  Each one of these \"frames\" is saved and then run rapidly together in the animation, much like a movie reel.\n",
        "\n",
        "In this case we create a function called aniframes which takes in the arguments frames (created in the funcanimation command), x, y, and lines.\n",
        "\n",
        "**frames** - this is an index which allows us to step through our function.  Note, here we set the index to have a length equal to the length of the x array created earlier (in this case it will have a length of 101)\n",
        "\n",
        "**interval** - the time interval between frames in msec (1/1000 sec)\n",
        "\n",
        "**fargs** - Function Arguments - these are the arguments which will bew used by the function - in this case, x, y, and lines.\n",
        "\n",
        "We finish with a save command to export the animation file to our directory:\n",
        "\n",
        "ani.save('animated_plot.gif', writer='pillow', fps=60)\n",
        "\n",
        "In order to display the gif, you need to go to your file directory to locate it."
      ],
      "metadata": {
        "id": "TvBcKdcpru0E"
      }
    },
    {
      "cell_type": "code",
      "source": [
        "# Now we will animate the line within the plot\n",
        "#\n",
        "\n",
        "def aniframes(frames, x, y, line):\n",
        "    line.set_data(x[:frames], y[:frames]) # the ':frames' means to use data upto the current frame to plot the line\n",
        "    return line,\n",
        "\n",
        "ani = animation.FuncAnimation(fig, aniframes, frames = len(x), interval=100,\n",
        "                              fargs=[x, y, line])\n",
        "ani.save('animated_plot.gif', writer='pillow', fps=60)\n",
        "\n",
        "# Go to your directory to diplay the gif"
      ],
      "metadata": {
        "id": "BZRYQrL6sOTW"
      },
      "execution_count": null,
      "outputs": []
    },
    {
      "cell_type": "markdown",
      "source": [
        "**Now let's look at plotting just the location of the data point in the current cell (elimintae all history).**\n",
        "\n",
        "We will rewrite graph as a scatter plot to eliminat the line connectine the dots.\n",
        "\n",
        "We will also use the clear() command to elimiate the data from prior cells in our update command.\n",
        "\n",
        "We will start this from scrach by copyinf the initial information forom the first plot through line 17.  Then comment out line 9."
      ],
      "metadata": {
        "id": "nNpeXBbcNT8U"
      }
    },
    {
      "cell_type": "code",
      "source": [
        "# Import some libraries\n",
        "\n",
        "import numpy as np\n",
        "import matplotlib.pyplot as plt\n",
        "import matplotlib.animation as animation\n",
        "\n",
        "# Create an array of 101 x's from 0 to 10 - this creates values 0f 0.0, 0.1, 0.2 ... 10.0\n",
        "x = np.linspace(0, 10, 101)\n",
        "# print(x)  # This is not needed, just shows you the array x\n",
        "\n",
        "# Make y a function of x\n",
        "y = x ** 2 #remember, we use ** to raise a variable to a power\n",
        "\n",
        "# Create a figure and axis - we are doin this is a bit more of a complex way\n",
        "# in order to pass this plot into an animation procedure\n",
        "fig, ax = plt.subplots()\n",
        "\n",
        "# Plot the initial scatter plot\n",
        "# assign the PathCollection object to 'scatter_plot'\n",
        "scatter_plot = plt.scatter(x, y, marker ='o')\n",
        "\n",
        "def aniframes(frames, x, y, scatter_plot):\n",
        "    ax.clear()\n",
        "    # note - since we only want the current data point use 'frames not ':frames'\n",
        "    scatter_plot = plt.scatter(x[frames], y[frames], marker ='o')\n",
        "    ax.set_title('y = x ^ 2')\n",
        "    ax.set_xlabel('x')\n",
        "    ax.set_ylabel('y')\n",
        "    # Sets the axes for the scatterplot, if you don't do this the axes change and dot remains at center\n",
        "    ax.set_xlim(0,10)\n",
        "    ax.set_ylim(1,100)\n",
        "    return scatter_plot,\n",
        "\n",
        "ani = animation.FuncAnimation(fig, aniframes, frames = len(x), interval=100,\n",
        "                              fargs=[x, y, scatter_plot])\n",
        "ani.save('animated__dot_plot.gif', writer='pillow', fps=60)\n",
        "# The .gif is savedin the files folder on the left, you need to open the .gif to see result"
      ],
      "metadata": {
        "id": "R6PyvXL-HDq0"
      },
      "execution_count": null,
      "outputs": []
    }
  ]
}